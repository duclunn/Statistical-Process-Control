{
  "nbformat": 4,
  "nbformat_minor": 0,
  "metadata": {
    "colab": {
      "provenance": [],
      "collapsed_sections": [
        "Dmr8rZWJ4I1H",
        "-0xvxJN14QWy",
        "7Ua7l_v-0V9x",
        "SBztMssP09Cl",
        "EEZPnuSV0_8S"
      ]
    },
    "kernelspec": {
      "name": "python3",
      "display_name": "Python 3"
    },
    "language_info": {
      "name": "python"
    }
  },
  "cells": [
    {
      "cell_type": "markdown",
      "source": [
        "# **IMPORT THƯ VIỆN**"
      ],
      "metadata": {
        "id": "TxWgLbhVZGim"
      }
    },
    {
      "cell_type": "code",
      "execution_count": null,
      "metadata": {
        "id": "o3Uqll3eZEGT"
      },
      "outputs": [],
      "source": [
        "import pandas as pd\n",
        "import numpy as np\n",
        "import matplotlib.pyplot as plt"
      ]
    },
    {
      "cell_type": "markdown",
      "source": [
        "# **DỮ LIỆU**"
      ],
      "metadata": {
        "id": "Oj6KDjBwU5cy"
      }
    },
    {
      "cell_type": "code",
      "source": [
        "constant = pd.read_csv(\"statistic_constant.csv\", index_col=\"N\")\n",
        "#data = pd.read_csv(\"test_P.csv\", index_col=\"Ngày\")\n",
        "data = pd.read_csv(\"testX_R.csv\")\n",
        "data"
      ],
      "metadata": {
        "colab": {
          "base_uri": "https://localhost:8080/",
          "height": 324
        },
        "id": "J5a9uTOOZF19",
        "outputId": "921dc806-a63d-4910-c1cf-fde8997423a3"
      },
      "execution_count": null,
      "outputs": [
        {
          "output_type": "error",
          "ename": "FileNotFoundError",
          "evalue": "[Errno 2] No such file or directory: 'statistic_constant.csv'",
          "traceback": [
            "\u001b[0;31m---------------------------------------------------------------------------\u001b[0m",
            "\u001b[0;31mFileNotFoundError\u001b[0m                         Traceback (most recent call last)",
            "\u001b[0;32m/tmp/ipython-input-1566761787.py\u001b[0m in \u001b[0;36m<cell line: 0>\u001b[0;34m()\u001b[0m\n\u001b[0;32m----> 1\u001b[0;31m \u001b[0mconstant\u001b[0m \u001b[0;34m=\u001b[0m \u001b[0mpd\u001b[0m\u001b[0;34m.\u001b[0m\u001b[0mread_csv\u001b[0m\u001b[0;34m(\u001b[0m\u001b[0;34m\"statistic_constant.csv\"\u001b[0m\u001b[0;34m,\u001b[0m \u001b[0mindex_col\u001b[0m\u001b[0;34m=\u001b[0m\u001b[0;34m\"N\"\u001b[0m\u001b[0;34m)\u001b[0m\u001b[0;34m\u001b[0m\u001b[0;34m\u001b[0m\u001b[0m\n\u001b[0m\u001b[1;32m      2\u001b[0m \u001b[0;31m#data = pd.read_csv(\"test_P.csv\", index_col=\"Ngày\")\u001b[0m\u001b[0;34m\u001b[0m\u001b[0;34m\u001b[0m\u001b[0m\n\u001b[1;32m      3\u001b[0m \u001b[0mdata\u001b[0m \u001b[0;34m=\u001b[0m \u001b[0mpd\u001b[0m\u001b[0;34m.\u001b[0m\u001b[0mread_csv\u001b[0m\u001b[0;34m(\u001b[0m\u001b[0;34m\"testX_R.csv\"\u001b[0m\u001b[0;34m)\u001b[0m\u001b[0;34m\u001b[0m\u001b[0;34m\u001b[0m\u001b[0m\n\u001b[1;32m      4\u001b[0m \u001b[0mdata\u001b[0m\u001b[0;34m\u001b[0m\u001b[0;34m\u001b[0m\u001b[0m\n",
            "\u001b[0;32m/usr/local/lib/python3.12/dist-packages/pandas/io/parsers/readers.py\u001b[0m in \u001b[0;36mread_csv\u001b[0;34m(filepath_or_buffer, sep, delimiter, header, names, index_col, usecols, dtype, engine, converters, true_values, false_values, skipinitialspace, skiprows, skipfooter, nrows, na_values, keep_default_na, na_filter, verbose, skip_blank_lines, parse_dates, infer_datetime_format, keep_date_col, date_parser, date_format, dayfirst, cache_dates, iterator, chunksize, compression, thousands, decimal, lineterminator, quotechar, quoting, doublequote, escapechar, comment, encoding, encoding_errors, dialect, on_bad_lines, delim_whitespace, low_memory, memory_map, float_precision, storage_options, dtype_backend)\u001b[0m\n\u001b[1;32m   1024\u001b[0m     \u001b[0mkwds\u001b[0m\u001b[0;34m.\u001b[0m\u001b[0mupdate\u001b[0m\u001b[0;34m(\u001b[0m\u001b[0mkwds_defaults\u001b[0m\u001b[0;34m)\u001b[0m\u001b[0;34m\u001b[0m\u001b[0;34m\u001b[0m\u001b[0m\n\u001b[1;32m   1025\u001b[0m \u001b[0;34m\u001b[0m\u001b[0m\n\u001b[0;32m-> 1026\u001b[0;31m     \u001b[0;32mreturn\u001b[0m \u001b[0m_read\u001b[0m\u001b[0;34m(\u001b[0m\u001b[0mfilepath_or_buffer\u001b[0m\u001b[0;34m,\u001b[0m \u001b[0mkwds\u001b[0m\u001b[0;34m)\u001b[0m\u001b[0;34m\u001b[0m\u001b[0;34m\u001b[0m\u001b[0m\n\u001b[0m\u001b[1;32m   1027\u001b[0m \u001b[0;34m\u001b[0m\u001b[0m\n\u001b[1;32m   1028\u001b[0m \u001b[0;34m\u001b[0m\u001b[0m\n",
            "\u001b[0;32m/usr/local/lib/python3.12/dist-packages/pandas/io/parsers/readers.py\u001b[0m in \u001b[0;36m_read\u001b[0;34m(filepath_or_buffer, kwds)\u001b[0m\n\u001b[1;32m    618\u001b[0m \u001b[0;34m\u001b[0m\u001b[0m\n\u001b[1;32m    619\u001b[0m     \u001b[0;31m# Create the parser.\u001b[0m\u001b[0;34m\u001b[0m\u001b[0;34m\u001b[0m\u001b[0m\n\u001b[0;32m--> 620\u001b[0;31m     \u001b[0mparser\u001b[0m \u001b[0;34m=\u001b[0m \u001b[0mTextFileReader\u001b[0m\u001b[0;34m(\u001b[0m\u001b[0mfilepath_or_buffer\u001b[0m\u001b[0;34m,\u001b[0m \u001b[0;34m**\u001b[0m\u001b[0mkwds\u001b[0m\u001b[0;34m)\u001b[0m\u001b[0;34m\u001b[0m\u001b[0;34m\u001b[0m\u001b[0m\n\u001b[0m\u001b[1;32m    621\u001b[0m \u001b[0;34m\u001b[0m\u001b[0m\n\u001b[1;32m    622\u001b[0m     \u001b[0;32mif\u001b[0m \u001b[0mchunksize\u001b[0m \u001b[0;32mor\u001b[0m \u001b[0miterator\u001b[0m\u001b[0;34m:\u001b[0m\u001b[0;34m\u001b[0m\u001b[0;34m\u001b[0m\u001b[0m\n",
            "\u001b[0;32m/usr/local/lib/python3.12/dist-packages/pandas/io/parsers/readers.py\u001b[0m in \u001b[0;36m__init__\u001b[0;34m(self, f, engine, **kwds)\u001b[0m\n\u001b[1;32m   1618\u001b[0m \u001b[0;34m\u001b[0m\u001b[0m\n\u001b[1;32m   1619\u001b[0m         \u001b[0mself\u001b[0m\u001b[0;34m.\u001b[0m\u001b[0mhandles\u001b[0m\u001b[0;34m:\u001b[0m \u001b[0mIOHandles\u001b[0m \u001b[0;34m|\u001b[0m \u001b[0;32mNone\u001b[0m \u001b[0;34m=\u001b[0m \u001b[0;32mNone\u001b[0m\u001b[0;34m\u001b[0m\u001b[0;34m\u001b[0m\u001b[0m\n\u001b[0;32m-> 1620\u001b[0;31m         \u001b[0mself\u001b[0m\u001b[0;34m.\u001b[0m\u001b[0m_engine\u001b[0m \u001b[0;34m=\u001b[0m \u001b[0mself\u001b[0m\u001b[0;34m.\u001b[0m\u001b[0m_make_engine\u001b[0m\u001b[0;34m(\u001b[0m\u001b[0mf\u001b[0m\u001b[0;34m,\u001b[0m \u001b[0mself\u001b[0m\u001b[0;34m.\u001b[0m\u001b[0mengine\u001b[0m\u001b[0;34m)\u001b[0m\u001b[0;34m\u001b[0m\u001b[0;34m\u001b[0m\u001b[0m\n\u001b[0m\u001b[1;32m   1621\u001b[0m \u001b[0;34m\u001b[0m\u001b[0m\n\u001b[1;32m   1622\u001b[0m     \u001b[0;32mdef\u001b[0m \u001b[0mclose\u001b[0m\u001b[0;34m(\u001b[0m\u001b[0mself\u001b[0m\u001b[0;34m)\u001b[0m \u001b[0;34m->\u001b[0m \u001b[0;32mNone\u001b[0m\u001b[0;34m:\u001b[0m\u001b[0;34m\u001b[0m\u001b[0;34m\u001b[0m\u001b[0m\n",
            "\u001b[0;32m/usr/local/lib/python3.12/dist-packages/pandas/io/parsers/readers.py\u001b[0m in \u001b[0;36m_make_engine\u001b[0;34m(self, f, engine)\u001b[0m\n\u001b[1;32m   1878\u001b[0m                 \u001b[0;32mif\u001b[0m \u001b[0;34m\"b\"\u001b[0m \u001b[0;32mnot\u001b[0m \u001b[0;32min\u001b[0m \u001b[0mmode\u001b[0m\u001b[0;34m:\u001b[0m\u001b[0;34m\u001b[0m\u001b[0;34m\u001b[0m\u001b[0m\n\u001b[1;32m   1879\u001b[0m                     \u001b[0mmode\u001b[0m \u001b[0;34m+=\u001b[0m \u001b[0;34m\"b\"\u001b[0m\u001b[0;34m\u001b[0m\u001b[0;34m\u001b[0m\u001b[0m\n\u001b[0;32m-> 1880\u001b[0;31m             self.handles = get_handle(\n\u001b[0m\u001b[1;32m   1881\u001b[0m                 \u001b[0mf\u001b[0m\u001b[0;34m,\u001b[0m\u001b[0;34m\u001b[0m\u001b[0;34m\u001b[0m\u001b[0m\n\u001b[1;32m   1882\u001b[0m                 \u001b[0mmode\u001b[0m\u001b[0;34m,\u001b[0m\u001b[0;34m\u001b[0m\u001b[0;34m\u001b[0m\u001b[0m\n",
            "\u001b[0;32m/usr/local/lib/python3.12/dist-packages/pandas/io/common.py\u001b[0m in \u001b[0;36mget_handle\u001b[0;34m(path_or_buf, mode, encoding, compression, memory_map, is_text, errors, storage_options)\u001b[0m\n\u001b[1;32m    871\u001b[0m         \u001b[0;32mif\u001b[0m \u001b[0mioargs\u001b[0m\u001b[0;34m.\u001b[0m\u001b[0mencoding\u001b[0m \u001b[0;32mand\u001b[0m \u001b[0;34m\"b\"\u001b[0m \u001b[0;32mnot\u001b[0m \u001b[0;32min\u001b[0m \u001b[0mioargs\u001b[0m\u001b[0;34m.\u001b[0m\u001b[0mmode\u001b[0m\u001b[0;34m:\u001b[0m\u001b[0;34m\u001b[0m\u001b[0;34m\u001b[0m\u001b[0m\n\u001b[1;32m    872\u001b[0m             \u001b[0;31m# Encoding\u001b[0m\u001b[0;34m\u001b[0m\u001b[0;34m\u001b[0m\u001b[0m\n\u001b[0;32m--> 873\u001b[0;31m             handle = open(\n\u001b[0m\u001b[1;32m    874\u001b[0m                 \u001b[0mhandle\u001b[0m\u001b[0;34m,\u001b[0m\u001b[0;34m\u001b[0m\u001b[0;34m\u001b[0m\u001b[0m\n\u001b[1;32m    875\u001b[0m                 \u001b[0mioargs\u001b[0m\u001b[0;34m.\u001b[0m\u001b[0mmode\u001b[0m\u001b[0;34m,\u001b[0m\u001b[0;34m\u001b[0m\u001b[0;34m\u001b[0m\u001b[0m\n",
            "\u001b[0;31mFileNotFoundError\u001b[0m: [Errno 2] No such file or directory: 'statistic_constant.csv'"
          ]
        }
      ]
    },
    {
      "cell_type": "markdown",
      "source": [
        "# **XỬ LÝ KỊCH BẢN MẤT KIỂM SOÁT**"
      ],
      "metadata": {
        "id": "Dmr8rZWJ4I1H"
      }
    },
    {
      "cell_type": "code",
      "source": [
        "# Xử lý các kịch bản mất kiểm soát\n",
        "def xu_ly_kich_ban_mat_kiem_soat(diem_gia_tri, UCL, LCL, mean, sigma, diem_mat_kiem_soat):\n",
        "  # Kịch bản 1: 1 điểm vượt ngoài UCL hoặc LCL\n",
        "  for idx, val in enumerate(diem_gia_tri):\n",
        "    if val > UCL or val < LCL:\n",
        "      diem_mat_kiem_soat.append((idx, val))\n",
        "\n",
        "  # Kịch bản 5: 2/3 điểm liên tục vượt ngoài ±2σ\n",
        "  for i in range(len(diem_gia_tri) - 2):\n",
        "    window = diem_gia_tri[i:i+3]\n",
        "    idx_window = list(range(i, i+3))\n",
        "    count_tren = sum([1 for v in window if v > mean + 2*sigma])\n",
        "    count_duoi = sum([1 for v in window if v < mean - 2*sigma])\n",
        "\n",
        "    if count_tren >= 2:\n",
        "      for j, v in zip(idx_window, window):\n",
        "        if v > mean + 2*sigma:\n",
        "          diem_mat_kiem_soat.append((j, v))\n",
        "      if count_tren >= 2:\n",
        "        for j, v in zip(idx_window, window):\n",
        "          diem_mat_kiem_soat.append((j, v))\n",
        "\n",
        "    if count_duoi >= 2:\n",
        "      for j, v in zip(idx_window, window):\n",
        "        if v < mean - 2*sigma:\n",
        "          diem_mat_kiem_soat.append((j, v))\n",
        "      if count_duoi >= 2:\n",
        "        for j, v in zip(idx_window, window):\n",
        "          diem_mat_kiem_soat.append((j, v))\n",
        "\n",
        "  # Loại bỏ trùng lặp điểm (nếu có nhiều window overlap)\n",
        "  diem_mat_kiem_soat = list(set(diem_mat_kiem_soat))\n",
        "  diem_mat_kiem_soat.sort(key=lambda x: x[0])\n",
        "\n",
        "  return diem_mat_kiem_soat\n"
      ],
      "metadata": {
        "id": "FxHoUnxSxpzz"
      },
      "execution_count": null,
      "outputs": []
    },
    {
      "cell_type": "markdown",
      "source": [
        "# **VẼ BIỂU ĐỒ**"
      ],
      "metadata": {
        "id": "-0xvxJN14QWy"
      }
    },
    {
      "cell_type": "code",
      "source": [
        "def chart(chart_title, x_label, y_label, mean_label, data, diem_gia_tri, mean, UCL, LCL, label_diem_gia_tri, diem_mat_kiem_soat=None):\n",
        "  plt.figure(figsize=(16,4))\n",
        "  plt.plot(data.columns, diem_gia_tri, marker='o', linestyle='-', color='b', label=label_diem_gia_tri)\n",
        "  plt.axhline(y=mean, color='g', linestyle='-')\n",
        "  plt.axhline(y=UCL, color='r', linestyle='-')\n",
        "  plt.axhline(y=LCL, color='r', linestyle='-')\n",
        "  sigma = (UCL - mean) / 3\n",
        "  for i in [1, 2]:\n",
        "    plt.axhline(y=mean + i*sigma, color='gray', linestyle=':')\n",
        "    plt.axhline(y=mean - i*sigma, color='gray', linestyle=':')\n",
        "\n",
        "  # Đánh dấu điểm mất kiểm soát màu đỏ\n",
        "  for idx, val in diem_mat_kiem_soat:\n",
        "    plt.scatter(data.columns[idx], val, color='red', s=40, zorder=5, label=\"Điểm mất kiểm soát\" if idx==diem_mat_kiem_soat[0][0] else \"\")\n",
        "    plt.axvline(x=idx, color='gray', linestyle='--', alpha=0.5)\n",
        "\n",
        "  xmax = len(diem_gia_tri) + 0.5\n",
        "  plt.text(xmax, mean, mean_label, va='center', ha='left', color='g')\n",
        "  plt.text(xmax, UCL, ' UCL', va='center', ha='left', color='r')\n",
        "  plt.text(xmax, LCL, ' LCL', va='center', ha='left', color='r')\n",
        "  plt.title(chart_title)\n",
        "  plt.xlabel(x_label)\n",
        "  plt.ylabel(y_label)\n",
        "  plt.legend()\n",
        "  plt.show()"
      ],
      "metadata": {
        "id": "wVlv56OgySyZ"
      },
      "execution_count": null,
      "outputs": []
    },
    {
      "cell_type": "markdown",
      "source": [
        "# **CHỈ SỐ NĂNG LỰC** #"
      ],
      "metadata": {
        "id": "Cpg370Z72io-"
      }
    },
    {
      "cell_type": "code",
      "source": [
        "def processCapability(data, subgroup_size=None, diem_mat_kiem_soat=None, diem_mat_kiem_soat_2=None):\n",
        "  #USL = float(input(\"USL: \"))\n",
        "  #LSL = float(input(\"LSL: \"))\n",
        "\n",
        "  USL = 605\n",
        "  LSL = 595\n",
        "\n",
        "  # Loại bỏ điểm mất kiểm soá\n",
        "  idx_set = set(idx for idx, _ in (diem_mat_kiem_soat or []))\n",
        "  if diem_mat_kiem_soat_2:\n",
        "    idx_set |= set(idx for idx, _ in diem_mat_kiem_soat_2)\n",
        "  cols_to_exclude = [data.columns[i] for i in sorted(idx_set) if 0 <= i < data.shape[1]]\n",
        "  if cols_to_exclude:\n",
        "    data = data.drop(cols_to_exclude, axis=1, errors=\"ignore\")\n",
        "  print(data)\n",
        "\n",
        "  # Tính trung bình tổng thể mu\n",
        "  subgroup_mean = []\n",
        "  subgroup_mean.append(data.mean())\n",
        "  grand_mean = np.mean(subgroup_mean)\n",
        "\n",
        "  # Tính độ lệch chuẩn của từng phân nhóm\n",
        "  subgroup_std = data.std(ddof=1)\n",
        "  Sbar = np.mean(subgroup_std)\n",
        "  sigma_within = Sbar / constant.loc[subgroup_size, \"c4\"]\n",
        "\n",
        "  # Tính độ lệch chuẩn tổng thể\n",
        "  all_values = data.values.flatten()\n",
        "  sigma_overall = all_values.std(ddof=1)\n",
        "\n",
        "  # Tính Cp, Cpk\n",
        "  Cp = (USL-LSL)/(6*sigma_within)\n",
        "  CPU = (USL - grand_mean) / (3*sigma_within)\n",
        "  CPL = (grand_mean - LSL) / (3*sigma_within)\n",
        "  Cpk = min(CPU, CPL)\n",
        "  print(f\"Cp: {Cp}, Cpk: {Cpk}\")\n",
        "\n",
        "  # Tính Pp, Ppk\n",
        "  Pp = (USL-LSL)/(6*sigma_overall)\n",
        "  PPU = (USL - grand_mean) / (3*sigma_overall)\n",
        "  PPL = (grand_mean - LSL) / (3*sigma_overall)\n",
        "  Ppk = min(PPU, PPL)\n",
        "  print(f\"Pp: {Pp}, Ppk: {Ppk}\")\n",
        "\n",
        "  # Tính mức sigma\n",
        "  #Z_LSL = (grand_mean-LSL)/sigma_within\n",
        "  #Z_USL = (USL - grand_mean)/sigma_within"
      ],
      "metadata": {
        "id": "sdJ2-kmI2hbp"
      },
      "execution_count": null,
      "outputs": []
    },
    {
      "cell_type": "markdown",
      "source": [
        "# **CÁC LOẠI BIỂU ĐỒ**"
      ],
      "metadata": {
        "id": "tWSgb4on36A_"
      }
    },
    {
      "cell_type": "markdown",
      "source": [
        "### Biểu đồ I-MR ###"
      ],
      "metadata": {
        "id": "7Ua7l_v-0V9x"
      }
    },
    {
      "cell_type": "code",
      "source": [
        "# Biểu đồ\n",
        "def I_MR_chart():\n",
        "  mean = data.mean(axis=1).iloc[0]\n",
        "  #print(mean)\n",
        "  d2 = constant.loc[2, \"d2\"]\n",
        "  d3 = constant.loc[2, \"d3\"]\n",
        "\n",
        "  # tính moving range\n",
        "  s = data.iloc[0]\n",
        "  mr = s.diff().abs().iloc[1:]\n",
        "  mr = [0] + mr.tolist()\n",
        "  mr_bar = np.mean(mr)\n",
        "  #print(mr_bar)\n",
        "  sigma = mr_bar/d2\n",
        "\n",
        "  # Tính đường giới hạn\n",
        "  UCL_I = mean + 3*sigma\n",
        "  LCL_I = mean - 3*sigma\n",
        "  UCL_MR = mr_bar + 3*d3*sigma\n",
        "  LCL_MR = max(mr_bar - 3*d3*sigma,0)\n",
        "  diem_mat_kiem_soat = []\n",
        "  chart(\"Biểu đồ I\", \"Ngày\", \"Giá trị trung bình\", r' $\\bar{X}$', data, s, mean, UCL_I, LCL_I, \"Điểm giá trị\", diem_mat_kiem_soat=xu_ly_kich_ban_mat_kiem_soat(s, UCL_I, LCL_I, mean, sigma, diem_mat_kiem_soat))\n",
        "  # Vẽ R chart\n",
        "  diem_mat_kiem_soat_MR = []\n",
        "  chart(\"Biểu đồ MR\", \"Ngày\", \"Khoảng biến thiên động\", r' $\\bar{MR}$', data, mr, mr_bar, UCL_MR, LCL_MR, \"Điểm giá trị\", diem_mat_kiem_soat=xu_ly_kich_ban_mat_kiem_soat(mr, UCL_MR, LCL_MR, mr_bar, sigma, diem_mat_kiem_soat_MR))\n",
        "\n"
      ],
      "metadata": {
        "id": "qXYb43hrcStP"
      },
      "execution_count": null,
      "outputs": []
    },
    {
      "cell_type": "markdown",
      "source": [
        "### Biểu đồ $\\bar{X-}R$ ###"
      ],
      "metadata": {
        "id": "HQwCHUua0gCm"
      }
    },
    {
      "cell_type": "code",
      "source": [
        "def X_R_chart(subgroup_size):\n",
        "  subgroup_mean = []\n",
        "  subgroup_mean.append(data.mean())\n",
        "  #print(\"Giá trị trung bình mẫu của mỗi phân nhóm\\n\")\n",
        "  #print(subgroup_mean)\n",
        "  #print(\"\\nGiá trị trung bình tổng thể\\n\")\n",
        "  grand_mean = np.mean(subgroup_mean)\n",
        "  #print(grand_mean)\n",
        "  ''''''\n",
        "  subgroup_mean = np.array(subgroup_mean).flatten()\n",
        "  R = []\n",
        "  R.append(data.max()-data.min())\n",
        "  #print(R)\n",
        "  Rbar = np.mean(R)\n",
        "  #print(round(Rbar,3))\n",
        "  ''''''\n",
        "  R = np.array(R).flatten()\n",
        "  d2 = constant.loc[subgroup_size, \"d2\"]\n",
        "  d3 = constant.loc[subgroup_size, \"d3\"]\n",
        "  sigma = Rbar/d2\n",
        "  #print(round(sigma,3))\n",
        "\n",
        "  # Tính đường giới hạn\n",
        "  UCL_X = grand_mean + 3*sigma/np.sqrt(len(data))\n",
        "  LCL_X = grand_mean - 3*sigma/np.sqrt(len(data))\n",
        "  UCL_R = Rbar + 3*d3*sigma\n",
        "  LCL_R = Rbar - 3*d3*sigma\n",
        "\n",
        "  # Vẽ Xbar chart\n",
        "  diem_mat_kiem_soat = []\n",
        "  chart(\"Biểu đồ X\", \"Ngày\", \"Giá trị trung bình\", r' $\\bar{X}$', data, subgroup_mean, grand_mean, UCL_X, LCL_X, \"Điểm giá trị\", diem_mat_kiem_soat=xu_ly_kich_ban_mat_kiem_soat(subgroup_mean, UCL_X, LCL_X, grand_mean, sigma, diem_mat_kiem_soat))\n",
        "  # Vẽ R chart\n",
        "  diem_mat_kiem_soat_R = []\n",
        "  chart(\"Biểu đồ R\", \"Ngày\", \"Khoảng biến thiên\", r' $\\bar{R}$', data, R, Rbar, UCL_R, LCL_R, \"Điểm giá trị\", diem_mat_kiem_soat=xu_ly_kich_ban_mat_kiem_soat(R, UCL_R, LCL_R, Rbar, sigma, diem_mat_kiem_soat_R))\n",
        "\n",
        "  #test_mat_kiem_soat = []\n",
        "  #xu_ly_kich_ban_mat_kiem_soat(subgroup_mean, UCL_X, LCL_X, grand_mean, sigma, test_mat_kiem_soat)\n",
        "\n",
        "  processCapability(data, subgroup_size, diem_mat_kiem_soat, diem_mat_kiem_soat_R)"
      ],
      "metadata": {
        "id": "W3G7hbuk0cu2"
      },
      "execution_count": null,
      "outputs": []
    },
    {
      "cell_type": "markdown",
      "source": [
        "### Biểu đồ $\\bar{X-}S$ ###"
      ],
      "metadata": {
        "id": "ICG0fv3H06u2"
      }
    },
    {
      "cell_type": "code",
      "source": [
        "def X_S_chart(subgroup_size):\n",
        "  subgroup_mean = []\n",
        "  subgroup_mean.append(data.mean())\n",
        "  #print(\"Giá trị trung bình mẫu của mỗi phân nhóm\\n\")\n",
        "  #print(subgroup_mean)\n",
        "  #print(\"\\nGiá trị trung bình tổng thể\\n\")\n",
        "  grand_mean = np.mean(subgroup_mean)\n",
        "  #print(grand_mean)\n",
        "  subgroup_mean = np.array(subgroup_mean).flatten()\n",
        "\n",
        "  S = []\n",
        "  S.append(data.std())\n",
        "  print(S)\n",
        "  Sbar = np.mean(S)\n",
        "  #print(round(Rbar,3))\n",
        "  ''''''\n",
        "  S = np.array(S).flatten()\n",
        "  c4 = constant.loc[subgroup_size, \"c4\"]\n",
        "  c5 = constant.loc[subgroup_size, \"c5\"]\n",
        "  sigma = Sbar/c4\n",
        "  print(round(sigma,3))\n",
        "\n",
        "  # Tính đường giới hạn\n",
        "  UCL_X = grand_mean + 3*sigma/np.sqrt(len(data))\n",
        "  LCL_X = grand_mean - 3*sigma/np.sqrt(len(data))\n",
        "  UCL_S = Sbar + 3*c5*sigma\n",
        "  LCL_S = Sbar - 3*c5*sigma\n",
        "\n",
        "  # Vẽ Xbar chart\n",
        "  diem_mat_kiem_soat = []\n",
        "  chart(\"Biểu đồ X\", \"Ngày\", \"Giá trị trung bình\", r' $\\bar{X}$', data, subgroup_mean, grand_mean, UCL_X, LCL_X, \"Điểm giá trị\", diem_mat_kiem_soat=xu_ly_kich_ban_mat_kiem_soat(subgroup_mean, UCL_X, LCL_X, grand_mean, sigma, diem_mat_kiem_soat))\n",
        "  # Vẽ R chart\n",
        "  diem_mat_kiem_soat_S = []\n",
        "  chart(\"Biểu đồ S\", \"Ngày\", \"Độ lệch chuẩn\", r' $\\bar{S}$', data, S, Sbar, UCL_S, LCL_S, \"Điểm giá trị\", diem_mat_kiem_soat=xu_ly_kich_ban_mat_kiem_soat(S, UCL_S, LCL_S, Sbar, sigma, diem_mat_kiem_soat_S))\n",
        "\n",
        "  processCapability(data, subgroup_size, diem_mat_kiem_soat, diem_mat_kiem_soat_S)"
      ],
      "metadata": {
        "id": "FdZxiUX71H4C"
      },
      "execution_count": null,
      "outputs": []
    },
    {
      "cell_type": "markdown",
      "source": [
        "### Biểu đồ P ###"
      ],
      "metadata": {
        "id": "SBztMssP09Cl"
      }
    },
    {
      "cell_type": "code",
      "source": [
        "def P_chart(data):\n",
        "  data[\"P\"] = data[\"Rejects\"] / data[\"Sampled\"]\n",
        "  P = data[\"P\"].values\n",
        "  P_mean = np.mean(P)\n",
        "\n",
        "  sigma = np.sqrt(P_mean * (1 - P_mean) / data[\"Sampled\"])\n",
        "  UCL = P_mean + 3 * sigma\n",
        "  LCL = np.maximum(P_mean - 3 * sigma, 0)\n",
        "\n",
        "  x = np.arange(1, len(data) + 1)\n",
        "  # Vẽ biểu đồ\n",
        "  plt.figure(figsize=(16, 4))\n",
        "  plt.plot(x, P, marker='o', linestyle='-', color='b', label=\"Tỷ lệ lỗi\")\n",
        "  plt.plot(x, UCL, linestyle='-', color='r', label=\"UCL\")\n",
        "  plt.plot(x, LCL, linestyle='-', color='r', label=\"LCL\")\n",
        "  plt.axhline(y=P_mean, color='g', linestyle='-', label=r'$\\bar{P}$')\n",
        "\n",
        "  # Nhãn cuối (dịch sang phải)\n",
        "  plt.text(x[-1] + 0.2, P_mean, r' $\\bar{P}$', va='center', ha='left', color='g')\n",
        "  plt.text(x[-1] + 0.2, UCL.iloc[-1], ' UCL', va='center', ha='left', color='r')\n",
        "  plt.text(x[-1] + 0.2, LCL.iloc[-1], ' LCL', va='center', ha='left', color='r')\n",
        "\n",
        "  #plt.legend(loc=\"center left\", bbox_to_anchor=(1, 0.5))\n",
        "  plt.title(\"Biểu đồ P\")\n",
        "  plt.xlabel(\"Ngày\")\n",
        "  plt.ylabel(\"Tỷ lệ\")\n",
        "  plt.xticks(x)  # đảm bảo hiển thị đủ số nguyên\n",
        "  #plt.tight_layout()\n",
        "  plt.show()"
      ],
      "metadata": {
        "id": "MBYpH9F91QyF"
      },
      "execution_count": null,
      "outputs": []
    },
    {
      "cell_type": "markdown",
      "source": [
        "### Biểu đồ U ###"
      ],
      "metadata": {
        "id": "EEZPnuSV0_8S"
      }
    },
    {
      "cell_type": "code",
      "source": [
        "def U_chart(data):\n",
        "  data[\"U\"] = data[\"Defects\"] / data[\"Sampled\"]\n",
        "  U = data[\"U\"].values\n",
        "  U_mean = np.mean(U)\n",
        "\n",
        "  sigma = np.sqrt(U_mean / data[\"Sampled\"])\n",
        "  UCL = U_mean + 3 * sigma\n",
        "  LCL = np.maximum(U_mean - 3 * sigma, 0)\n",
        "\n",
        "  x = np.arange(1, len(data) + 1)\n",
        "  # Vẽ biểu đồ\n",
        "  plt.figure(figsize=(16, 4))\n",
        "  plt.plot(x, U, marker='o', linestyle='-', color='b', label=\"Tỷ lệ lỗi\")\n",
        "  plt.plot(x, UCL, linestyle='-', color='r', label=\"UCL\")\n",
        "  plt.plot(x, LCL, linestyle='-', color='r', label=\"LCL\")\n",
        "  plt.axhline(y=U_mean, color='g', linestyle='-', label=r'$\\bar{P}$')\n",
        "\n",
        "  # Nhãn cuối (dịch sang phải)\n",
        "  plt.text(x[-1] + 0.2, U_mean, r' $\\bar{U}$', va='center', ha='left', color='g')\n",
        "  plt.text(x[-1] + 0.2, UCL.iloc[-1], ' UCL', va='center', ha='left', color='r')\n",
        "  plt.text(x[-1] + 0.2, LCL.iloc[-1], ' LCL', va='center', ha='left', color='r')\n",
        "\n",
        "  #plt.legend(loc=\"center left\", bbox_to_anchor=(1, 0.5))\n",
        "  plt.title(\"Biểu đồ U\")\n",
        "  plt.xlabel(\"Ngày\")\n",
        "  plt.ylabel(\"Tỷ lệ\")\n",
        "  plt.xticks(x)  # đảm bảo hiển thị đủ số nguyên\n",
        "  #plt.tight_layout()\n",
        "  plt.show()"
      ],
      "metadata": {
        "id": "HYs3c4ra1RNi"
      },
      "execution_count": null,
      "outputs": []
    },
    {
      "cell_type": "markdown",
      "source": [
        "# **CHẠY CHƯƠNG TRÌNH**"
      ],
      "metadata": {
        "id": "N_88iLTP4beD"
      }
    },
    {
      "cell_type": "code",
      "source": [
        "# Chọn kiểu dữ liệu\n",
        "while True:\n",
        "  print(\"1. Dữ liệu định lượng\")\n",
        "  print(\"2. Dữ liệu định tính\")\n",
        "  data_type = int(input(\"Kiểu dữ liệu: \"))\n",
        "  if(data_type == 1):\n",
        "    print(\"\\n0. Không \\n1. Có\")\n",
        "    sub_group_choice = int(input(\"Thu thập theo phân nhóm? \"))\n",
        "    if(sub_group_choice==0):\n",
        "      I_MR_chart()\n",
        "      break\n",
        "    elif(sub_group_choice==1):\n",
        "      #print(\"\\nKích thước phân nhóm?\")\n",
        "      subgroup_size = int(input(\"\\nNhập kích thước phân nhóm: \"))\n",
        "      if(subgroup_size<=8 and subgroup_size>=2):\n",
        "        X_R_chart(subgroup_size)\n",
        "        break\n",
        "      elif(subgroup_size>8):\n",
        "        X_S_chart(subgroup_size)\n",
        "        break\n",
        "    break\n",
        "  elif(data_type == 2):\n",
        "    print(\"\\n1. Số lượng khuyết tật\\n2. Số lượng khuyết tật trên mỗi đơn vị\")\n",
        "    choice = int(input(\"Bạn đang đếm cái gì? \"))\n",
        "    if(choice == 1):\n",
        "      P_chart(data)\n",
        "      break\n",
        "    elif(choice == 2):\n",
        "      U_chart(data)\n",
        "      break\n",
        "  else:\n",
        "    print(\"Kiểu dữ liệu không hợp lệ. \\nNhập lại\\n\")"
      ],
      "metadata": {
        "id": "YUnRp5psZS3-"
      },
      "execution_count": null,
      "outputs": []
    }
  ]
}